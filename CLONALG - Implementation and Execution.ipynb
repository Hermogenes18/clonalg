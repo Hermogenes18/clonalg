{
 "cells": [
  {
   "cell_type": "markdown",
   "metadata": {},
   "source": [
    "1) Inicialização: criar uma população inicial com N anticorpos;\n",
    "\n",
    "2) Avaliação: calcule o fitness de cada elemento;\n",
    "\n",
    "3) Seleção Clonal e Expansão: Selecione os n anticorpos de maior fitness e gere clones destes anticorpos de maneira proporcional ao fitness -- quanto maior o fitness, maior o número de clones, e vice-versa;\n",
    "\n",
    "4) Maturação e atividade: aplique mutação sobre os clones segundo uma taxa inversamente proporcional ao fitness. Então, avaliea população de clones  eforme uma nova população com os n melhores clones;\n",
    "\n",
    "5) Metadinâmica: substitua uma porcentagem p de anticorpos de menor fitness em população por novos gerados aleatoriamente. Este procedimento pode ser feito em periodos de T iterações;\n",
    "\n",
    "6) Ciclo: repita os passos 2 a 5 até que um determinado critério de parada seja atingido."
   ]
  },
  {
   "cell_type": "markdown",
   "metadata": {},
   "source": [
    "# CLONALG Description"
   ]
  },
  {
   "cell_type": "markdown",
   "metadata": {},
   "source": [
    "In artificial immune systems, clonal selection algorithms are a class of algorithms inspired by the clonal selection theory of acquired immunity that explains how B and T lymphocytes improve their response to antigens over time called affinity maturation. These algorithms focus on the Darwinian attributes of the theory where selection is inspired by the affinity of antigen-antibody interactions, reproduction is inspired by cell division, and variation is inspired by somatic hypermutation. Clonal selection algorithms are most commonly applied to optimization and pattern recognition domains, some of which resemble parallel hill climbing and the genetic algorithm without the recombination operator $[2]$."
   ]
  },
  {
   "cell_type": "markdown",
   "metadata": {
    "ExecuteTime": {
     "end_time": "2018-11-01T10:39:47.648671Z",
     "start_time": "2018-11-01T10:39:47.636765Z"
    }
   },
   "source": [
    "<img src=\"figures/clonalg_pseudocoge.png\" alt=\"Drawing\" style=\"width: 700px;\"/>"
   ]
  },
  {
   "cell_type": "markdown",
   "metadata": {},
   "source": [
    "# Implementation"
   ]
  },
  {
   "cell_type": "markdown",
   "metadata": {},
   "source": [
    "The demonstration problem is an istance of a continuous function optimization that seeks $min\\ f(x)$ where $f\\ =\\ \\sum_{i=1}^{n} x_i^2$, $-5.0 \\le x_i \\le 5.0$ and $n = 3$. The optimal solution for this basin function is $(v_0, ..., v_{n-1}) = 0.0$ $[1]$."
   ]
  },
  {
   "cell_type": "code",
   "execution_count": 9,
   "metadata": {
    "ExecuteTime": {
     "end_time": "2018-11-01T10:49:16.029746Z",
     "start_time": "2018-11-01T10:49:16.023146Z"
    }
   },
   "outputs": [],
   "source": [
    "# Third-party libraries\n",
    "import numpy as np\n",
    "from numpy import absolute\n",
    "from numpy.random import uniform, choice\n",
    "from random import randint"
   ]
  },
  {
   "cell_type": "code",
   "execution_count": 28,
   "metadata": {
    "ExecuteTime": {
     "end_time": "2018-11-01T11:12:13.858087Z",
     "start_time": "2018-11-01T11:12:13.853369Z"
    }
   },
   "outputs": [],
   "source": [
    "def affinity(p_i):\n",
    "    return np.sum(np.power(p_i, 2))"
   ]
  },
  {
   "cell_type": "code",
   "execution_count": 18,
   "metadata": {
    "ExecuteTime": {
     "end_time": "2018-11-01T10:54:40.843352Z",
     "start_time": "2018-11-01T10:54:40.832798Z"
    }
   },
   "outputs": [],
   "source": [
    "# Inputs\n",
    "b_lo, b_up = (-5, 5)\n",
    "\n",
    "pop_size = 100\n",
    "selection_size = 10\n",
    "problem_size = 3\n",
    "clone_factor = 0.1\n",
    "random_cells_num = 2\n",
    "max_gens = 100"
   ]
  },
  {
   "cell_type": "code",
   "execution_count": 19,
   "metadata": {
    "ExecuteTime": {
     "end_time": "2018-11-01T10:54:41.618179Z",
     "start_time": "2018-11-01T10:54:40.969725Z"
    }
   },
   "outputs": [],
   "source": [
    "population = [uniform(low=b_lo, high=b_up, size=problem_size) for x in range(pop_size)]"
   ]
  },
  {
   "cell_type": "code",
   "execution_count": 32,
   "metadata": {
    "ExecuteTime": {
     "end_time": "2018-11-01T11:12:53.186187Z",
     "start_time": "2018-11-01T11:12:53.181887Z"
    }
   },
   "outputs": [
    {
     "data": {
      "text/plain": [
       "[array([-2.34878124, -4.10090711, -0.99208912]),\n",
       " array([-3.6731006 ,  0.34962855, -3.5504332 ]),\n",
       " array([ 1.68208678, -2.70311155, -2.84454385]),\n",
       " array([-0.98420836,  0.71007125, -1.99212365]),\n",
       " array([-2.82354647, -0.29405737, -1.68410738])]"
      ]
     },
     "execution_count": 32,
     "metadata": {},
     "output_type": "execute_result"
    }
   ],
   "source": [
    "population[:5]"
   ]
  },
  {
   "cell_type": "code",
   "execution_count": 29,
   "metadata": {
    "ExecuteTime": {
     "end_time": "2018-11-01T11:12:39.595703Z",
     "start_time": "2018-11-01T11:12:39.592922Z"
    }
   },
   "outputs": [],
   "source": [
    "pop_affinity = [affinity(p_i) for p_i in population]"
   ]
  },
  {
   "cell_type": "code",
   "execution_count": 31,
   "metadata": {
    "ExecuteTime": {
     "end_time": "2018-11-01T11:12:47.800771Z",
     "start_time": "2018-11-01T11:12:47.796612Z"
    }
   },
   "outputs": [
    {
     "data": {
      "text/plain": [
       "[23.31845321453554,\n",
       " 26.219484080545104,\n",
       " 18.22765766490641,\n",
       " 5.441423918269415,\n",
       " 10.89510209830063]"
      ]
     },
     "execution_count": 31,
     "metadata": {},
     "output_type": "execute_result"
    }
   ],
   "source": [
    "pop_affinity[:5]"
   ]
  },
  {
   "cell_type": "markdown",
   "metadata": {},
   "source": [
    "# Sources \n",
    "\n",
    "[[1] Clonal Selection Algorithm](http://www.cleveralgorithms.com/nature-inspired/immune/clonal_selection_algorithm.html).\n",
    "\n",
    "[[2] Clonal Selection Algorithm - Wikipedia](https://en.wikipedia.org/wiki/Clonal_selection_algorithm)."
   ]
  }
 ],
 "metadata": {
  "kernelspec": {
   "display_name": "Python 3",
   "language": "python",
   "name": "python3"
  },
  "language_info": {
   "codemirror_mode": {
    "name": "ipython",
    "version": 3
   },
   "file_extension": ".py",
   "mimetype": "text/x-python",
   "name": "python",
   "nbconvert_exporter": "python",
   "pygments_lexer": "ipython3",
   "version": "3.6.4"
  },
  "toc": {
   "base_numbering": 1,
   "nav_menu": {},
   "number_sections": true,
   "sideBar": true,
   "skip_h1_title": false,
   "title_cell": "Table of Contents",
   "title_sidebar": "Contents",
   "toc_cell": false,
   "toc_position": {},
   "toc_section_display": true,
   "toc_window_display": false
  },
  "varInspector": {
   "cols": {
    "lenName": 16,
    "lenType": 16,
    "lenVar": 40
   },
   "kernels_config": {
    "python": {
     "delete_cmd_postfix": "",
     "delete_cmd_prefix": "del ",
     "library": "var_list.py",
     "varRefreshCmd": "print(var_dic_list())"
    },
    "r": {
     "delete_cmd_postfix": ") ",
     "delete_cmd_prefix": "rm(",
     "library": "var_list.r",
     "varRefreshCmd": "cat(var_dic_list()) "
    }
   },
   "types_to_exclude": [
    "module",
    "function",
    "builtin_function_or_method",
    "instance",
    "_Feature"
   ],
   "window_display": false
  }
 },
 "nbformat": 4,
 "nbformat_minor": 2
}
